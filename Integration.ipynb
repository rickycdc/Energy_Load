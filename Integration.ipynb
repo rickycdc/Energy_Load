{
 "cells": [
  {
   "cell_type": "markdown",
   "id": "b0cf4e26",
   "metadata": {},
   "source": [
    "# Data Cleaning, Preprocessing, and Disaggregation using NILMTK\n",
    "This Jupyter Notebook focuses on cleaning, preprocessing, and appliance-level disaggregation of energy consumption data using the NILMTK library."
   ]
  },
  {
   "cell_type": "code",
   "execution_count": 13,
   "id": "628d38cd",
   "metadata": {},
   "outputs": [],
   "source": [
    "import numpy as np\n",
    "from scipy import stats\n",
    "import pandas as pd\n",
    "import matplotlib.pyplot as plt\n",
    "import datetime, time\n",
    "import sklearn\n",
    "from datetime import timedelta\n",
    "from sklearn.preprocessing import StandardScaler\n",
    "from sklearn.model_selection import train_test_split\n",
    "from nilmtk.metrics import f1_score\n",
    "from nilmtk.disaggregate import Mean\n",
    "from nilmtk.legacy.disaggregate import FHMM\n",
    "from nilmtk import DataSet\n",
    "from nilmtk.utils import get_datastore\n",
    "import nilmtk\n",
    "from hmmlearn import hmm\n",
    "from nilmtk import DataSet, HDFDataStore\n",
    "from nilmtk.legacy.disaggregate import fhmm_exact\n",
    "from os.path import join\n",
    "housedata = pd.read_csv(\"data_30_minutes.csv\")\n",
    "house_london = pd.read_csv(\"30_minutes.csv\")\n"
   ]
  },
  {
   "cell_type": "markdown",
   "id": "d1b781ee",
   "metadata": {},
   "source": [
    "## Reading Energy Consumption Data\n",
    "The energy consumption data from Both Paul's house data and the london Kaggle data are becoming into one DataFrame. This is in an attempt to increase the amount of data that can be used and, the assumption here is that the energy usage is similar for the london houses and Pauls house. "
   ]
  },
  {
   "cell_type": "code",
   "execution_count": 2,
   "id": "b5c3b819",
   "metadata": {},
   "outputs": [
    {
     "name": "stderr",
     "output_type": "stream",
     "text": [
      "C:\\Users\\ricky\\anaconda3\\envs\\nilmtk\\lib\\site-packages\\pandas\\core\\frame.py:7134: FutureWarning: Sorting because non-concatenation axis is not aligned. A future version\n",
      "of pandas will change to not sort by default.\n",
      "\n",
      "To accept the future behavior, pass 'sort=False'.\n",
      "\n",
      "To retain the current behavior and silence the warning, pass 'sort=True'.\n",
      "\n",
      "  return concat(\n"
     ]
    }
   ],
   "source": [
    "housedata.reset_index(drop=True,inplace=True)\n",
    "house_london.reset_index(drop=True, inplace = True)\n",
    "df1 = housedata.append(house_london)"
   ]
  },
  {
   "cell_type": "code",
   "execution_count": 3,
   "id": "eccd9926",
   "metadata": {},
   "outputs": [
    {
     "name": "stdout",
     "output_type": "stream",
     "text": [
      "             LCLid  Unnamed: 0      energy                       tstp\n",
      "0              NaN           0  515.333333  2022-11-30 17:12:00+00:00\n",
      "1              NaN           1  228.590909  2022-11-30 17:16:00+00:00\n",
      "2              NaN           2  184.708333  2022-11-30 17:20:00+00:00\n",
      "3              NaN           3  349.040000  2022-11-30 17:24:00+00:00\n",
      "4              NaN           4  362.125000  2022-11-30 17:28:00+00:00\n",
      "...            ...         ...         ...                        ...\n",
      "1222615  MAC005492     1222665  182.000000        2014-02-27 22:00:00\n",
      "1222616  MAC005492     1222666  122.000000        2014-02-27 22:30:00\n",
      "1222617  MAC005492     1222667  140.000000        2014-02-27 23:00:00\n",
      "1222618  MAC005492     1222668  192.000000        2014-02-27 23:30:00\n",
      "1222619  MAC005492     1222669   88.000000        2014-02-28 00:00:00\n",
      "\n",
      "[2150481 rows x 4 columns]\n"
     ]
    }
   ],
   "source": [
    "print(df1)"
   ]
  },
  {
   "cell_type": "code",
   "execution_count": 4,
   "id": "fe7536a5",
   "metadata": {},
   "outputs": [
    {
     "name": "stdout",
     "output_type": "stream",
     "text": [
      "Index(['LCLid', 'Unnamed: 0', 'energy', 'tstp'], dtype='object')\n",
      "LCLid         927861\n",
      "Unnamed: 0         0\n",
      "energy             0\n",
      "tstp               0\n",
      "dtype: int64\n"
     ]
    }
   ],
   "source": [
    "print(df1.columns)\n",
    "print(df1.isnull().sum())\n",
    "df2 = df1.drop(columns=[\"Unnamed: 0\"])"
   ]
  },
  {
   "cell_type": "code",
   "execution_count": 5,
   "id": "1db4c6a1",
   "metadata": {
    "scrolled": true
   },
   "outputs": [
    {
     "name": "stdout",
     "output_type": "stream",
     "text": [
      "             LCLid      energy                       tstp\n",
      "0              NaN  515.333333  2022-11-30 17:12:00+00:00\n",
      "1              NaN  228.590909  2022-11-30 17:16:00+00:00\n",
      "2              NaN  184.708333  2022-11-30 17:20:00+00:00\n",
      "3              NaN  349.040000  2022-11-30 17:24:00+00:00\n",
      "4              NaN  362.125000  2022-11-30 17:28:00+00:00\n",
      "...            ...         ...                        ...\n",
      "1222615  MAC005492  182.000000        2014-02-27 22:00:00\n",
      "1222616  MAC005492  122.000000        2014-02-27 22:30:00\n",
      "1222617  MAC005492  140.000000        2014-02-27 23:00:00\n",
      "1222618  MAC005492  192.000000        2014-02-27 23:30:00\n",
      "1222619  MAC005492   88.000000        2014-02-28 00:00:00\n",
      "\n",
      "[2150481 rows x 3 columns]\n",
      "LCLid      object\n",
      "energy    float64\n",
      "tstp       object\n",
      "dtype: object\n"
     ]
    }
   ],
   "source": [
    "print(df2)\n",
    "print(df2.dtypes)"
   ]
  },
  {
   "cell_type": "code",
   "execution_count": 6,
   "id": "596fc85d",
   "metadata": {},
   "outputs": [
    {
     "name": "stdout",
     "output_type": "stream",
     "text": [
      "       LCLid  energy                      tstp\n",
      "361      NaN  250.00 2023-01-02 17:31:03+00:00\n",
      "362      NaN  251.00 2023-01-02 17:31:12+00:00\n",
      "363      NaN  250.00 2023-01-02 17:31:24+00:00\n",
      "364      NaN  251.00 2023-01-02 17:31:33+00:00\n",
      "365      NaN  252.00 2023-01-02 17:31:42+00:00\n",
      "...      ...     ...                       ...\n",
      "371946   NaN   39.65 2023-01-02 23:38:59+00:00\n",
      "371947   NaN   39.65 2023-01-02 23:43:59+00:00\n",
      "371948   NaN   39.65 2023-01-02 23:48:59+00:00\n",
      "371949   NaN   39.65 2023-01-02 23:53:59+00:00\n",
      "371950   NaN   39.65 2023-01-02 23:58:59+00:00\n",
      "\n",
      "[3573 rows x 3 columns]\n",
      "       energy                      tstp\n",
      "LCLid                                  \n",
      "NaN    250.00 2023-01-02 17:31:03+00:00\n",
      "NaN    251.00 2023-01-02 17:31:12+00:00\n",
      "NaN    250.00 2023-01-02 17:31:24+00:00\n",
      "NaN    251.00 2023-01-02 17:31:33+00:00\n",
      "NaN    252.00 2023-01-02 17:31:42+00:00\n",
      "...       ...                       ...\n",
      "NaN     39.65 2023-01-02 23:38:59+00:00\n",
      "NaN     39.65 2023-01-02 23:43:59+00:00\n",
      "NaN     39.65 2023-01-02 23:48:59+00:00\n",
      "NaN     39.65 2023-01-02 23:53:59+00:00\n",
      "NaN     39.65 2023-01-02 23:58:59+00:00\n",
      "\n",
      "[3573 rows x 2 columns]\n"
     ]
    }
   ],
   "source": [
    "df2['tstp'] = pd.to_datetime(df2['tstp'], utc=True)\n",
    "date_str = '2023-01-02 00:00:00+00:00'\n",
    "date = pd.to_datetime(date_str)\n",
    "daily_data = {}\n",
    "for day, data in df2.groupby(df2['tstp'].dt.date):\n",
    "    daily_data[day] = data\n",
    "#In order to get a database based on the day, just need to do daily_data['date']\n",
    "df3 = daily_data[date.date()]\n",
    "print(df3)\n",
    "dftest = df3.reset_index().set_index(\"LCLid\")\n",
    "dftest = dftest.drop(columns=[\"index\"])\n",
    "print(dftest)"
   ]
  },
  {
   "cell_type": "markdown",
   "id": "3439bcf6",
   "metadata": {},
   "source": [
    "## Preprocessing Data\n",
    "The energy consumption data is plotted using Matplotlib, and the z-scores are measured to remove outliers. The data is preprocessed by transforming the timestamp data into Unix time and scaling the energy consumption data using StandardScaler from Scikit-learn."
   ]
  },
  {
   "cell_type": "code",
   "execution_count": 7,
   "id": "2efea601",
   "metadata": {},
   "outputs": [
    {
     "data": {
      "image/png": "[encoded data removed]",
      "text/plain": [
       "<Figure size 640x480 with 1 Axes>"
      ]
     },
     "metadata": {},
     "output_type": "display_data"
    }
   ],
   "source": [
    "df2['energy'].plot()\n",
    "plt.xlabel('Timestamp')\n",
    "plt.ylabel('Energy')\n",
    "plt.title('Energy over Time')\n",
    "plt.show()"
   ]
  },
  {
   "cell_type": "code",
   "execution_count": 8,
   "id": "e6df7281",
   "metadata": {},
   "outputs": [
    {
     "data": {
      "text/plain": [
       "Text(0.5, 1.0, 'Energy over Time')"
      ]
     },
     "execution_count": 8,
     "metadata": {},
     "output_type": "execute_result"
    },
    {
     "data": {
      "image/png": "[encoded data removed]",
      "text/plain": [
       "<Figure size 640x480 with 1 Axes>"
      ]
     },
     "metadata": {},
     "output_type": "display_data"
    }
   ],
   "source": [
    "grouped = df2.groupby('LCLid')\n",
    "\n",
    "fig, ax = plt.subplots()\n",
    "for key, group in grouped:\n",
    "    group['energy'].plot(ax=ax, label=key)\n",
    "\n",
    "plt.xlabel('Timestamp')\n",
    "plt.ylabel('Energy')\n",
    "plt.title('Energy over Time')\n"
   ]
  },
  {
   "cell_type": "code",
   "execution_count": 9,
   "id": "eb0777fc",
   "metadata": {},
   "outputs": [
    {
     "name": "stdout",
     "output_type": "stream",
     "text": [
      "(2107657, 2)\n",
      "             energy   unix_time\n",
      "0        515.333333  1669828320\n",
      "1        228.590909  1669828560\n",
      "2        184.708333  1669828800\n",
      "3        349.040000  1669829040\n",
      "4        362.125000  1669829280\n",
      "...             ...         ...\n",
      "1222615  182.000000  1393538400\n",
      "1222616  122.000000  1393540200\n",
      "1222617  140.000000  1393542000\n",
      "1222618  192.000000  1393543800\n",
      "1222619   88.000000  1393545600\n",
      "\n",
      "[2107657 rows x 2 columns]\n"
     ]
    }
   ],
   "source": [
    "df2['tstp'] = pd.to_datetime(df2['tstp'], utc=True)\n",
    "#transform the timestates to Unix Time, seconds from January 1,1970\n",
    "df2['unix_time'] = df2['tstp'].astype(np.int64) // 10**9\n",
    "df4 = df2.drop(columns=[\"LCLid\", \"tstp\"])\n",
    "# to measure the z scores to remove outliers \n",
    "z = np.abs(stats.zscore(df4))\n",
    "df5 = df4[(z < 3).all(axis=1)]\n",
    "print(df5.shape)\n",
    "print(df5)\n",
    "df6 = df5.loc[:, ['energy', 'unix_time']]\n",
    "df6['energy'] = df6['energy'].fillna(0)\n",
    "#to transform data to have \n",
    "scaler = StandardScaler()\n",
    "df6.loc[:, \"energy\"] = scaler.fit_transform(df6.loc[:, [\"energy\"]])\n",
    "\n"
   ]
  },
  {
   "cell_type": "code",
   "execution_count": 10,
   "id": "64f4134f",
   "metadata": {
    "scrolled": true
   },
   "outputs": [
    {
     "name": "stdout",
     "output_type": "stream",
     "text": [
      "           energy   unix_time\n",
      "0        0.047759  1669828320\n",
      "1       -0.352695  1669828560\n",
      "2       -0.413980  1669828800\n",
      "3       -0.184480  1669829040\n",
      "4       -0.166206  1669829280\n",
      "...           ...         ...\n",
      "1222615 -0.417762  1393538400\n",
      "1222616 -0.501556  1393540200\n",
      "1222617 -0.476417  1393542000\n",
      "1222618 -0.403796  1393543800\n",
      "1222619 -0.549039  1393545600\n",
      "\n",
      "[2107657 rows x 2 columns]\n"
     ]
    }
   ],
   "source": [
    "print(df6)\n",
    "\n",
    "train_df, test_df = train_test_split(df6, test_size=0.2)"
   ]
  },
  {
   "cell_type": "code",
   "execution_count": 16,
   "id": "ab570470",
   "metadata": {},
   "outputs": [
    {
     "name": "stdout",
     "output_type": "stream",
     "text": [
      "<nilmtk.dataset.DataSet object at 0x00000142C7905AF0>\n",
      "{'description': 'Some individual appliance meters are switched off from the socket for significant portions of time.  These include (using original names): laptop, kettle, toaster, lcd_office, hifi_office, livingroom_s_lamp, soldering_iron, gigE_&_USBhub, hoover, iPad_charger, utilityrm_lamp, hair_dryer, straighteners, iron, childs_ds_lamp, office_lamp3, office_pc, gigE_switch', 'description_of_occupants': '2 adults and 1 dog started living in the house in 2006 (i.e. before the dataset started recording).  One child born 2011-08-27 and a second child born 2014-04-27.', 'original_name': 'house_1', 'heating': ['natural gas'], 'instance': 1, 'building_type': 'end of terrace', 'energy_improvements': ['solar thermal', 'loft insulation', 'solid wall insulation', 'double glazing'], 'rooms': [{'name': 'lounge', 'floor': 0}, {'instance': 1, 'name': 'hall', 'floor': 0}, {'instance': 2, 'name': 'hall', 'floor': 1}, {'name': 'kitchen', 'floor': 0}, {'name': 'utility', 'floor': 0}, {'name': 'dining room', 'floor': 0}, {'instance': 1, 'floor': 1, 'description': 'master bedroom', 'name': 'bedroom'}, {'instance': 2, 'floor': 1, 'description': \"kid's bedroom\", 'name': 'bedroom'}, {'instance': 1, 'floor': 1, 'description': 'occasionally used as a spare bedroom ', 'name': 'study'}, {'instance': 1, 'floor': 1, 'description': 'shower + bath + toilet + sink + cupboards + hot water tank + boiler + solar thermal pumping station', 'name': 'bathroom'}], 'ownership': 'bought', 'timeframe': {'start': '2012-11-09T22:28:15+00:00', 'end': '2015-01-05T06:26:44+00:00'}, 'construction_year': 1905, 'n_occupants': 4, 'dataset': 'UK-DALE'}\n"
     ]
    }
   ],
   "source": [
    "ukdale = nilmtk.DataSet('archive/ukdale.h5/ukdale.h5/ukdale.h5')\n",
    "print(ukdale)\n",
    "building = ukdale.buildings[1]\n",
    "metadata = building.metadata\n",
    "print(metadata)"
   ]
  },
  {
   "cell_type": "code",
   "execution_count": 22,
   "id": "610dcb50",
   "metadata": {},
   "outputs": [],
   "source": [
    "building = ukdale.buildings[1]"
   ]
  },
  {
   "cell_type": "markdown",
   "id": "c9a649a3",
   "metadata": {},
   "source": [
    "## Disaggregating Energy Consumption Data\n",
    "The first attempt at using NILMTK to disaggregate the energy consumption data into individual appliances using the FHMM algorithm. This is done on the UKdale data first as the data is best suited for the toolkit, however my Laptop does not have enough memory to withstand the training. Finally, the model is tested, and its performance is meant to be evaluated using the f1_score."
   ]
  },
  {
   "cell_type": "code",
   "execution_count": 23,
   "id": "40bed46d",
   "metadata": {},
   "outputs": [],
   "source": [
    "train = ukdale.buildings[1].elec\n",
    "test = dftest"
   ]
  },
  {
   "cell_type": "code",
   "execution_count": null,
   "id": "a9e7b6ff",
   "metadata": {},
   "outputs": [
    {
     "name": "stderr",
     "output_type": "stream",
     "text": [
      "C:\\Users\\ricky\\anaconda3\\envs\\nilmtk\\lib\\site-packages\\nilmtk\\legacy\\disaggregate\\fhmm_exact.py:192: UserWarning: The required memory for the model may be more than the total system memory! Try using fewer appliances if the training fails.\n",
      "  warn(\"The required memory for the model may be more than the total system memory!\"\n",
      "C:\\Users\\ricky\\anaconda3\\envs\\nilmtk\\lib\\site-packages\\sklearn\\cluster\\_kmeans.py:870: FutureWarning: The default value of `n_init` will change from 10 to 'auto' in 1.4. Set the value of `n_init` explicitly to suppress the warning\n",
      "  warnings.warn(\n"
     ]
    },
    {
     "name": "stdout",
     "output_type": "stream",
     "text": [
      "Training model for submeter 'ElecMeter(instance=2, building=1, dataset='UK-DALE', appliances=[Appliance(type='boiler', instance=1)])' with 2 states\n"
     ]
    },
    {
     "name": "stderr",
     "output_type": "stream",
     "text": [
      "C:\\Users\\ricky\\anaconda3\\envs\\nilmtk\\lib\\site-packages\\sklearn\\cluster\\_kmeans.py:870: FutureWarning: The default value of `n_init` will change from 10 to 'auto' in 1.4. Set the value of `n_init` explicitly to suppress the warning\n",
      "  warnings.warn(\n",
      "C:\\Users\\ricky\\anaconda3\\envs\\nilmtk\\lib\\site-packages\\sklearn\\cluster\\_kmeans.py:870: FutureWarning: The default value of `n_init` will change from 10 to 'auto' in 1.4. Set the value of `n_init` explicitly to suppress the warning\n",
      "  warnings.warn(\n",
      "C:\\Users\\ricky\\anaconda3\\envs\\nilmtk\\lib\\site-packages\\sklearn\\cluster\\_kmeans.py:870: FutureWarning: The default value of `n_init` will change from 10 to 'auto' in 1.4. Set the value of `n_init` explicitly to suppress the warning\n",
      "  warnings.warn(\n"
     ]
    },
    {
     "name": "stdout",
     "output_type": "stream",
     "text": [
      "Training model for submeter 'ElecMeter(instance=3, building=1, dataset='UK-DALE', appliances=[Appliance(type='solar thermal pumping station', instance=1)])' with 2 states\n"
     ]
    },
    {
     "name": "stderr",
     "output_type": "stream",
     "text": [
      "C:\\Users\\ricky\\anaconda3\\envs\\nilmtk\\lib\\site-packages\\sklearn\\cluster\\_kmeans.py:870: FutureWarning: The default value of `n_init` will change from 10 to 'auto' in 1.4. Set the value of `n_init` explicitly to suppress the warning\n",
      "  warnings.warn(\n",
      "C:\\Users\\ricky\\anaconda3\\envs\\nilmtk\\lib\\site-packages\\sklearn\\cluster\\_kmeans.py:870: FutureWarning: The default value of `n_init` will change from 10 to 'auto' in 1.4. Set the value of `n_init` explicitly to suppress the warning\n",
      "  warnings.warn(\n"
     ]
    },
    {
     "name": "stdout",
     "output_type": "stream",
     "text": [
      "Training model for submeter 'ElecMeter(instance=4, building=1, dataset='UK-DALE', appliances=[Appliance(type='laptop computer', instance=1), Appliance(type='laptop computer', instance=3)])' with 2 states\n"
     ]
    },
    {
     "name": "stderr",
     "output_type": "stream",
     "text": [
      "C:\\Users\\ricky\\anaconda3\\envs\\nilmtk\\lib\\site-packages\\sklearn\\cluster\\_kmeans.py:870: FutureWarning: The default value of `n_init` will change from 10 to 'auto' in 1.4. Set the value of `n_init` explicitly to suppress the warning\n",
      "  warnings.warn(\n",
      "C:\\Users\\ricky\\anaconda3\\envs\\nilmtk\\lib\\site-packages\\sklearn\\cluster\\_kmeans.py:870: FutureWarning: The default value of `n_init` will change from 10 to 'auto' in 1.4. Set the value of `n_init` explicitly to suppress the warning\n",
      "  warnings.warn(\n"
     ]
    },
    {
     "name": "stdout",
     "output_type": "stream",
     "text": [
      "Training model for submeter 'ElecMeter(instance=5, building=1, dataset='UK-DALE', appliances=[Appliance(type='washer dryer', instance=1)])' with 2 states\n"
     ]
    },
    {
     "name": "stderr",
     "output_type": "stream",
     "text": [
      "C:\\Users\\ricky\\anaconda3\\envs\\nilmtk\\lib\\site-packages\\sklearn\\cluster\\_kmeans.py:870: FutureWarning: The default value of `n_init` will change from 10 to 'auto' in 1.4. Set the value of `n_init` explicitly to suppress the warning\n",
      "  warnings.warn(\n",
      "C:\\Users\\ricky\\anaconda3\\envs\\nilmtk\\lib\\site-packages\\sklearn\\cluster\\_kmeans.py:870: FutureWarning: The default value of `n_init` will change from 10 to 'auto' in 1.4. Set the value of `n_init` explicitly to suppress the warning\n",
      "  warnings.warn(\n"
     ]
    },
    {
     "name": "stdout",
     "output_type": "stream",
     "text": [
      "Training model for submeter 'ElecMeter(instance=6, building=1, dataset='UK-DALE', appliances=[Appliance(type='dish washer', instance=1)])' with 2 states\n"
     ]
    },
    {
     "name": "stderr",
     "output_type": "stream",
     "text": [
      "C:\\Users\\ricky\\anaconda3\\envs\\nilmtk\\lib\\site-packages\\sklearn\\cluster\\_kmeans.py:870: FutureWarning: The default value of `n_init` will change from 10 to 'auto' in 1.4. Set the value of `n_init` explicitly to suppress the warning\n",
      "  warnings.warn(\n",
      "C:\\Users\\ricky\\anaconda3\\envs\\nilmtk\\lib\\site-packages\\sklearn\\cluster\\_kmeans.py:870: FutureWarning: The default value of `n_init` will change from 10 to 'auto' in 1.4. Set the value of `n_init` explicitly to suppress the warning\n",
      "  warnings.warn(\n"
     ]
    },
    {
     "name": "stdout",
     "output_type": "stream",
     "text": [
      "Training model for submeter 'ElecMeter(instance=7, building=1, dataset='UK-DALE', appliances=[Appliance(type='television', instance=1)])' with 2 states\n"
     ]
    },
    {
     "name": "stderr",
     "output_type": "stream",
     "text": [
      "C:\\Users\\ricky\\anaconda3\\envs\\nilmtk\\lib\\site-packages\\sklearn\\cluster\\_kmeans.py:870: FutureWarning: The default value of `n_init` will change from 10 to 'auto' in 1.4. Set the value of `n_init` explicitly to suppress the warning\n",
      "  warnings.warn(\n",
      "C:\\Users\\ricky\\anaconda3\\envs\\nilmtk\\lib\\site-packages\\sklearn\\cluster\\_kmeans.py:870: FutureWarning: The default value of `n_init` will change from 10 to 'auto' in 1.4. Set the value of `n_init` explicitly to suppress the warning\n",
      "  warnings.warn(\n"
     ]
    },
    {
     "name": "stdout",
     "output_type": "stream",
     "text": [
      "Training model for submeter 'ElecMeter(instance=8, building=1, dataset='UK-DALE', appliances=[Appliance(type='light', instance=1), Appliance(type='light', instance=2)])' with 2 states\n"
     ]
    },
    {
     "name": "stderr",
     "output_type": "stream",
     "text": [
      "C:\\Users\\ricky\\anaconda3\\envs\\nilmtk\\lib\\site-packages\\sklearn\\cluster\\_kmeans.py:870: FutureWarning: The default value of `n_init` will change from 10 to 'auto' in 1.4. Set the value of `n_init` explicitly to suppress the warning\n",
      "  warnings.warn(\n",
      "C:\\Users\\ricky\\anaconda3\\envs\\nilmtk\\lib\\site-packages\\sklearn\\cluster\\_kmeans.py:870: FutureWarning: The default value of `n_init` will change from 10 to 'auto' in 1.4. Set the value of `n_init` explicitly to suppress the warning\n",
      "  warnings.warn(\n"
     ]
    },
    {
     "name": "stdout",
     "output_type": "stream",
     "text": [
      "Training model for submeter 'ElecMeter(instance=9, building=1, dataset='UK-DALE', appliances=[Appliance(type='HTPC', instance=1)])' with 2 states\n"
     ]
    },
    {
     "name": "stderr",
     "output_type": "stream",
     "text": [
      "C:\\Users\\ricky\\anaconda3\\envs\\nilmtk\\lib\\site-packages\\sklearn\\cluster\\_kmeans.py:870: FutureWarning: The default value of `n_init` will change from 10 to 'auto' in 1.4. Set the value of `n_init` explicitly to suppress the warning\n",
      "  warnings.warn(\n",
      "C:\\Users\\ricky\\anaconda3\\envs\\nilmtk\\lib\\site-packages\\sklearn\\cluster\\_kmeans.py:870: FutureWarning: The default value of `n_init` will change from 10 to 'auto' in 1.4. Set the value of `n_init` explicitly to suppress the warning\n",
      "  warnings.warn(\n"
     ]
    },
    {
     "name": "stdout",
     "output_type": "stream",
     "text": [
      "Training model for submeter 'ElecMeter(instance=10, building=1, dataset='UK-DALE', appliances=[Appliance(type='kettle', instance=1), Appliance(type='food processor', instance=1), Appliance(type='toasted sandwich maker', instance=1)])' with 2 states\n"
     ]
    },
    {
     "name": "stderr",
     "output_type": "stream",
     "text": [
      "C:\\Users\\ricky\\anaconda3\\envs\\nilmtk\\lib\\site-packages\\sklearn\\cluster\\_kmeans.py:870: FutureWarning: The default value of `n_init` will change from 10 to 'auto' in 1.4. Set the value of `n_init` explicitly to suppress the warning\n",
      "  warnings.warn(\n",
      "C:\\Users\\ricky\\anaconda3\\envs\\nilmtk\\lib\\site-packages\\sklearn\\cluster\\_kmeans.py:870: FutureWarning: The default value of `n_init` will change from 10 to 'auto' in 1.4. Set the value of `n_init` explicitly to suppress the warning\n",
      "  warnings.warn(\n"
     ]
    },
    {
     "name": "stdout",
     "output_type": "stream",
     "text": [
      "Training model for submeter 'ElecMeter(instance=11, building=1, dataset='UK-DALE', appliances=[Appliance(type='toaster', instance=1), Appliance(type='kitchen aid', instance=1), Appliance(type='food processor', instance=2)])' with 2 states\n"
     ]
    },
    {
     "name": "stderr",
     "output_type": "stream",
     "text": [
      "C:\\Users\\ricky\\anaconda3\\envs\\nilmtk\\lib\\site-packages\\sklearn\\cluster\\_kmeans.py:870: FutureWarning: The default value of `n_init` will change from 10 to 'auto' in 1.4. Set the value of `n_init` explicitly to suppress the warning\n",
      "  warnings.warn(\n",
      "C:\\Users\\ricky\\anaconda3\\envs\\nilmtk\\lib\\site-packages\\sklearn\\cluster\\_kmeans.py:870: FutureWarning: The default value of `n_init` will change from 10 to 'auto' in 1.4. Set the value of `n_init` explicitly to suppress the warning\n",
      "  warnings.warn(\n"
     ]
    },
    {
     "name": "stdout",
     "output_type": "stream",
     "text": [
      "Training model for submeter 'ElecMeter(instance=12, building=1, dataset='UK-DALE', appliances=[Appliance(type='fridge freezer', instance=1)])' with 2 states\n"
     ]
    }
   ],
   "source": [
    "model = fhmm_exact.FHMM()\n",
    "model.train(train)\n",
    "output = model.disaggregate(test)\n",
    "\n",
    "# Test the model and evaluate its performance\n",
    "f1 = nilmtk.metrics.f1_score(output, test)\n",
    "print('F1 score:', f1)"
   ]
  },
  {
   "cell_type": "code",
   "execution_count": null,
   "id": "d557fdce",
   "metadata": {},
   "outputs": [],
   "source": []
  }
 ],
 "metadata": {
  "kernelspec": {
   "display_name": "Python 3 (ipykernel)",
   "language": "python",
   "name": "python3"
  },
  "language_info": {
   "codemirror_mode": {
    "name": "ipython",
    "version": 3
   },
   "file_extension": ".py",
   "mimetype": "text/x-python",
   "name": "python",
   "nbconvert_exporter": "python",
   "pygments_lexer": "ipython3",
   "version": "3.8.16"
  }
 },
 "nbformat": 4,
 "nbformat_minor": 5
}
