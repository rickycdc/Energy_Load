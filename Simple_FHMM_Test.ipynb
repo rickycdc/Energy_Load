{
 "cells": [
  {
   "cell_type": "markdown",
   "id": "2acc6f15",
   "metadata": {},
   "source": [
    "# Load Disaggregation using Factorial Hidden Markov Model (FHMM)\n",
    "The london data that was inputed to peform simple load disaggregation from https://github.com/amzkit/load-disaggregation, First things was the preprocess the data for disaggregation."
   ]
  },
  {
   "cell_type": "code",
   "execution_count": 1,
   "id": "cb17f13f",
   "metadata": {},
   "outputs": [],
   "source": [
    "import fhmm_model as fhmm\n",
    "import numpy as np\n",
    "import pandas as pd\n",
    "import matplotlib.pyplot as plt\n",
    "import matplotlib.dates as mdates\n",
    "import matplotlib as mpl\n",
    "from matplotlib.ticker import FuncFormatter"
   ]
  },
  {
   "cell_type": "code",
   "execution_count": 2,
   "id": "ccd5a786",
   "metadata": {},
   "outputs": [
    {
     "name": "stdout",
     "output_type": "stream",
     "text": [
      "             LCLid                   DateTime        KWh\n",
      "0        MAC000323  2012-03-06 14:00:00+00:00   488.0000\n",
      "1        MAC000323  2012-03-06 14:30:00+00:00   449.0000\n",
      "2        MAC000323  2012-03-06 15:00:00+00:00   424.0000\n",
      "3        MAC000323  2012-03-06 15:30:00+00:00   439.0000\n",
      "4        MAC000323  2012-03-06 16:00:00+00:00   291.0000\n",
      "...            ...                        ...        ...\n",
      "7270639  MAC005509  2014-02-27 22:00:00+00:00   697.0000\n",
      "7270640  MAC005509  2014-02-27 22:30:00+00:00  1496.0001\n",
      "7270641  MAC005509  2014-02-27 23:00:00+00:00  1092.0000\n",
      "7270642  MAC005509  2014-02-27 23:30:00+00:00  1002.0000\n",
      "7270643  MAC005509  2014-02-28 00:00:00+00:00   282.0000\n",
      "\n",
      "[7270644 rows x 3 columns]\n",
      "                      DateTime      Fridge  Washing Machine          TV  \\\n",
      "0    2013-01-05 07:40:11+00:00  140.717578      1199.616497  268.105619   \n",
      "1    2013-06-09 01:03:07+00:00  160.390627      1328.789888  226.854459   \n",
      "2    2012-07-13 10:57:19+00:00  117.402343       999.973534  170.604169   \n",
      "3    2012-12-25 15:23:10+00:00  152.272234       999.406855  142.463900   \n",
      "4    2012-05-05 10:43:06+00:00  149.502054       731.775460  178.945614   \n",
      "..                         ...         ...              ...         ...   \n",
      "995  2012-09-28 05:00:39+00:00  171.103585       929.379530  213.657181   \n",
      "996  2014-01-10 21:38:38+00:00  138.565993      1292.892386  218.151523   \n",
      "997  2012-07-17 00:28:33+00:00  149.128342      1238.027185  197.249036   \n",
      "998  2013-01-04 15:48:36+00:00  199.699333      1497.313828  233.242279   \n",
      "999  2012-11-10 07:41:39+00:00  111.105613       693.424326  190.337380   \n",
      "\n",
      "            Oven  Air Conditioner  \n",
      "0    4756.812327      1563.959972  \n",
      "1    1210.766837      1095.792216  \n",
      "2    4391.060439      1300.088581  \n",
      "3    3633.120697      2371.526493  \n",
      "4    1463.136442      2408.038657  \n",
      "..           ...              ...  \n",
      "995  2124.658679      1165.055346  \n",
      "996  1689.827785      1522.210352  \n",
      "997  2112.550701      2033.438192  \n",
      "998  1235.464794      1375.629917  \n",
      "999  1731.062194      1986.474125  \n",
      "\n",
      "[1000 rows x 6 columns]\n"
     ]
    }
   ],
   "source": [
    "df = pd.read_csv(\"london_sample.csv\")\n",
    "df = df.drop(columns='Unnamed: 0')\n",
    "df.columns = ['LCLid', 'DateTime', 'KWh']\n",
    "print(df)\n",
    "dfdata = pd.read_csv(\"fake_appliance_data.csv\")\n",
    "print(dfdata)"
   ]
  },
  {
   "cell_type": "code",
   "execution_count": 3,
   "id": "28c69c27",
   "metadata": {},
   "outputs": [
    {
     "name": "stdout",
     "output_type": "stream",
     "text": [
      "Empty DataFrame\n",
      "Columns: [LCLid, KWh, Fridge, Washing Machine, TV, Oven, Air Conditioner]\n",
      "Index: []\n"
     ]
    }
   ],
   "source": [
    "df['DateTime'] = pd.to_datetime(df['DateTime'])\n",
    "df.set_index('DateTime', inplace=True)\n",
    "\n",
    "dfdata['DateTime'] = pd.to_datetime(dfdata['DateTime'])\n",
    "dfdata.set_index('DateTime', inplace=True)\n",
    "\n",
    "merged_df = df.join(dfdata)\n",
    "\n",
    "merged_df.dropna(inplace=True)\n",
    "print(merged_df)"
   ]
  },
  {
   "cell_type": "markdown",
   "id": "3b0d522c",
   "metadata": {},
   "source": [
    "Using the FHMM models I needed to change the column names to names that would work with models.  "
   ]
  },
  {
   "cell_type": "code",
   "execution_count": 4,
   "id": "9bf9158c",
   "metadata": {},
   "outputs": [
    {
     "name": "stdout",
     "output_type": "stream",
     "text": [
      "Empty DataFrame\n",
      "Columns: [timestamp, power, Fridge, Washing Machine, TV, Oven, Air Conditioner]\n",
      "Index: []\n",
      "Empty DataFrame\n",
      "Columns: [timestamp, power]\n",
      "Index: []\n"
     ]
    }
   ],
   "source": [
    "split_index = int(len(merged_df) * 0.75)\n",
    "train_df = merged_df.iloc[:split_index]\n",
    "test_df = merged_df.iloc[split_index:]\n",
    "\n",
    "train_df = train_df.reset_index()\n",
    "train_df['timestamp'] = train_df['DateTime'].astype(int) // 10**9\n",
    "train_df = train_df[['timestamp', 'KWh', 'Fridge', 'Washing Machine', 'TV', 'Oven', 'Air Conditioner']]\n",
    "train_df = train_df.rename(columns={'KWh': 'power'})\n",
    "print(train_df)\n",
    "test_df = test_df.reset_index()\n",
    "test_df['timestamp'] = test_df['DateTime'].astype(int) // 10**9\n",
    "test_df = test_df[['timestamp', 'KWh']]\n",
    "test_df = test_df.rename(columns={'KWh': 'power'})\n",
    "print(test_df)"
   ]
  },
  {
   "cell_type": "code",
   "execution_count": 5,
   "id": "5e2cdef9",
   "metadata": {},
   "outputs": [
    {
     "name": "stdout",
     "output_type": "stream",
     "text": [
      " [train] ERROR Submeter 'Fridge' has no samples, skipping...\n",
      " [train] ERROR Submeter 'Washing Machine' has no samples, skipping...\n",
      " [train] ERROR Submeter 'TV' has no samples, skipping...\n",
      " [train] ERROR Submeter 'Oven' has no samples, skipping...\n",
      " [train] ERROR Submeter 'Air Conditioner' has no samples, skipping...\n"
     ]
    },
    {
     "ename": "IndexError",
     "evalue": "list index out of range",
     "output_type": "error",
     "traceback": [
      "\u001b[1;31m---------------------------------------------------------------------------\u001b[0m",
      "\u001b[1;31mIndexError\u001b[0m                                Traceback (most recent call last)",
      "Cell \u001b[1;32mIn[5], line 8\u001b[0m\n\u001b[0;32m      5\u001b[0m model \u001b[38;5;241m=\u001b[39m fhmm\u001b[38;5;241m.\u001b[39mFHMM()\n\u001b[0;32m      7\u001b[0m \u001b[38;5;66;03m# Train the model with the training data\u001b[39;00m\n\u001b[1;32m----> 8\u001b[0m \u001b[43mmodel\u001b[49m\u001b[38;5;241;43m.\u001b[39;49m\u001b[43mtrain\u001b[49m\u001b[43m(\u001b[49m\u001b[43mtrain_df\u001b[49m\u001b[43m,\u001b[49m\u001b[43m \u001b[49m\u001b[43mlist_of_appliances\u001b[49m\u001b[43m)\u001b[49m\n\u001b[0;32m     10\u001b[0m model\u001b[38;5;241m.\u001b[39msave(\u001b[38;5;124m\"\u001b[39m\u001b[38;5;124mfhmm_trained_model.pkl\u001b[39m\u001b[38;5;124m\"\u001b[39m)\n",
      "File \u001b[1;32m~\\Documents\\0_University\\Masters\\Interdisciplinary_Group_Project\\Task_6_Data\\fhmm_model.py:380\u001b[0m, in \u001b[0;36mFHMM.train\u001b[1;34m(self, df, appliance_list)\u001b[0m\n\u001b[0;32m    377\u001b[0m     \u001b[38;5;66;03m# UGLY! But works.\u001b[39;00m\n\u001b[0;32m    378\u001b[0m     \u001b[38;5;28mself\u001b[39m\u001b[38;5;241m.\u001b[39mmeters\u001b[38;5;241m.\u001b[39mappend(meter)\n\u001b[1;32m--> 380\u001b[0m learnt_model_combined \u001b[38;5;241m=\u001b[39m \u001b[43mcreate_combined_hmm\u001b[49m\u001b[43m(\u001b[49m\u001b[43mnew_learnt_models\u001b[49m\u001b[43m)\u001b[49m\n\u001b[0;32m    381\u001b[0m \u001b[38;5;28mself\u001b[39m\u001b[38;5;241m.\u001b[39mindividual \u001b[38;5;241m=\u001b[39m new_learnt_models\n\u001b[0;32m    382\u001b[0m \u001b[38;5;28mself\u001b[39m\u001b[38;5;241m.\u001b[39mmodel \u001b[38;5;241m=\u001b[39m learnt_model_combined\n",
      "File \u001b[1;32m~\\Documents\\0_University\\Masters\\Interdisciplinary_Group_Project\\Task_6_Data\\fhmm_model.py:126\u001b[0m, in \u001b[0;36mcreate_combined_hmm\u001b[1;34m(model)\u001b[0m\n\u001b[0;32m    122\u001b[0m list_A \u001b[38;5;241m=\u001b[39m [model[appliance]\u001b[38;5;241m.\u001b[39mtransmat_ \u001b[38;5;28;01mfor\u001b[39;00m appliance \u001b[38;5;129;01min\u001b[39;00m model]\n\u001b[0;32m    123\u001b[0m list_means \u001b[38;5;241m=\u001b[39m [model[appliance]\u001b[38;5;241m.\u001b[39mmeans_\u001b[38;5;241m.\u001b[39mflatten()\u001b[38;5;241m.\u001b[39mtolist()\n\u001b[0;32m    124\u001b[0m               \u001b[38;5;28;01mfor\u001b[39;00m appliance \u001b[38;5;129;01min\u001b[39;00m model]\n\u001b[1;32m--> 126\u001b[0m pi_combined \u001b[38;5;241m=\u001b[39m \u001b[43mcompute_pi_fhmm\u001b[49m\u001b[43m(\u001b[49m\u001b[43mlist_pi\u001b[49m\u001b[43m)\u001b[49m\n\u001b[0;32m    127\u001b[0m A_combined \u001b[38;5;241m=\u001b[39m compute_A_fhmm(list_A)\n\u001b[0;32m    128\u001b[0m [mean_combined, cov_combined] \u001b[38;5;241m=\u001b[39m compute_means_fhmm(list_means)\n",
      "File \u001b[1;32m~\\Documents\\0_University\\Masters\\Interdisciplinary_Group_Project\\Task_6_Data\\fhmm_model.py:114\u001b[0m, in \u001b[0;36mcompute_pi_fhmm\u001b[1;34m(list_pi)\u001b[0m\n\u001b[0;32m    104\u001b[0m \u001b[38;5;28;01mdef\u001b[39;00m \u001b[38;5;21mcompute_pi_fhmm\u001b[39m(list_pi):\n\u001b[0;32m    105\u001b[0m \u001b[38;5;250m    \u001b[39m\u001b[38;5;124;03m\"\"\"\u001b[39;00m\n\u001b[0;32m    106\u001b[0m \u001b[38;5;124;03m    Parameters\u001b[39;00m\n\u001b[0;32m    107\u001b[0m \u001b[38;5;124;03m    -----------\u001b[39;00m\n\u001b[1;32m   (...)\u001b[0m\n\u001b[0;32m    112\u001b[0m \u001b[38;5;124;03m    result : Combined Pi for the FHMM\u001b[39;00m\n\u001b[0;32m    113\u001b[0m \u001b[38;5;124;03m    \"\"\"\u001b[39;00m\n\u001b[1;32m--> 114\u001b[0m     result \u001b[38;5;241m=\u001b[39m \u001b[43mlist_pi\u001b[49m\u001b[43m[\u001b[49m\u001b[38;5;241;43m0\u001b[39;49m\u001b[43m]\u001b[49m\n\u001b[0;32m    115\u001b[0m     \u001b[38;5;28;01mfor\u001b[39;00m i \u001b[38;5;129;01min\u001b[39;00m \u001b[38;5;28mrange\u001b[39m(\u001b[38;5;28mlen\u001b[39m(list_pi) \u001b[38;5;241m-\u001b[39m \u001b[38;5;241m1\u001b[39m):\n\u001b[0;32m    116\u001b[0m         result \u001b[38;5;241m=\u001b[39m np\u001b[38;5;241m.\u001b[39mkron(result, list_pi[i \u001b[38;5;241m+\u001b[39m \u001b[38;5;241m1\u001b[39m])\n",
      "\u001b[1;31mIndexError\u001b[0m: list index out of range"
     ]
    }
   ],
   "source": [
    "# Create a list of appliances\n",
    "list_of_appliances = ['Fridge', 'Washing Machine', 'TV', 'Oven', 'Air Conditioner']\n",
    "\n",
    "# Create an instance of the FHMM model\n",
    "model = fhmm.FHMM()\n",
    "\n",
    "# Train the model with the training data\n",
    "model.train(train_df, list_of_appliances)\n",
    "\n",
    "model.save(\"fhmm_trained_model.pkl\")"
   ]
  },
  {
   "cell_type": "code",
   "execution_count": null,
   "id": "3178ed47",
   "metadata": {},
   "outputs": [],
   "source": [
    "# Disaggregate the loads using the testing data\n",
    "prediction = model.disaggregate(test_df)\n",
    "print(prediction)\n",
    "# Create a bar chart of the original data\n",
    "fig, ax = plt.subplots(figsize=(12, 6))\n",
    "print(df)\n",
    "mpl.rcParams['agg.path.chunksize'] = 100000\n",
    "# Plot the original energy consumption data\n",
    "ax.plot(df.index, df['KWh']*1000, color='gray')\n"
   ]
  },
  {
   "cell_type": "code",
   "execution_count": null,
   "id": "794ad433",
   "metadata": {},
   "outputs": [],
   "source": []
  }
 ],
 "metadata": {
  "kernelspec": {
   "display_name": "Python 3 (ipykernel)",
   "language": "python",
   "name": "python3"
  },
  "language_info": {
   "codemirror_mode": {
    "name": "ipython",
    "version": 3
   },
   "file_extension": ".py",
   "mimetype": "text/x-python",
   "name": "python",
   "nbconvert_exporter": "python",
   "pygments_lexer": "ipython3",
   "version": "3.8.16"
  }
 },
 "nbformat": 4,
 "nbformat_minor": 5
}
