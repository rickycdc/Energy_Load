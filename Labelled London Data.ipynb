{
 "cells": [
  {
   "cell_type": "markdown",
   "id": "8b91be0a",
   "metadata": {},
   "source": [
    "# Generating Fake Appliance Energy Data\n",
    "Trying our best with Paul data only left us with the option of using the London Kaggle Data, as the dataset is larger. We also have information on the types of houses that can be used for predictions based on the similar house groupings. "
   ]
  },
  {
   "cell_type": "code",
   "execution_count": 1,
   "id": "751c738b",
   "metadata": {},
   "outputs": [],
   "source": [
    "import numpy as np\n",
    "import pandas as pd\n",
    "import matplotlib.pyplot as plt\n",
    "import random\n",
    "from datetime import datetime, timedelta"
   ]
  },
  {
   "cell_type": "code",
   "execution_count": 2,
   "id": "6d75a499",
   "metadata": {},
   "outputs": [
    {
     "name": "stderr",
     "output_type": "stream",
     "text": [
      "C:\\Users\\ricky\\anaconda3\\envs\\nilmtk\\lib\\site-packages\\pandas\\core\\ops\\__init__.py:1115: FutureWarning: elementwise comparison failed; returning scalar instead, but in the future will perform elementwise comparison\n",
      "  result = method(y)\n"
     ]
    },
    {
     "name": "stdout",
     "output_type": "stream",
     "text": [
      "             LCLid                   DateTime        KWh Acorn  \\\n",
      "0        MAC000323  2012-03-06 14:00:00+00:00   488.0000     A   \n",
      "1        MAC000323  2012-03-06 14:30:00+00:00   449.0000     A   \n",
      "2        MAC000323  2012-03-06 15:00:00+00:00   424.0000     A   \n",
      "3        MAC000323  2012-03-06 15:30:00+00:00   439.0000     A   \n",
      "4        MAC000323  2012-03-06 16:00:00+00:00   291.0000     A   \n",
      "...            ...                        ...        ...   ...   \n",
      "7270639  MAC005509  2014-02-27 22:00:00+00:00   697.0000     C   \n",
      "7270640  MAC005509  2014-02-27 22:30:00+00:00  1496.0001     C   \n",
      "7270641  MAC005509  2014-02-27 23:00:00+00:00  1092.0000     C   \n",
      "7270642  MAC005509  2014-02-27 23:30:00+00:00  1002.0000     C   \n",
      "7270643  MAC005509  2014-02-28 00:00:00+00:00   282.0000     C   \n",
      "\n",
      "                House Type  Amount of Beds  House Value   \\\n",
      "0         Detached Houses              5+            1m+   \n",
      "1         Detached Houses              5+            1m+   \n",
      "2         Detached Houses              5+            1m+   \n",
      "3         Detached Houses              5+            1m+   \n",
      "4         Detached Houses              5+            1m+   \n",
      "...                    ...             ...           ...   \n",
      "7270639   Detached Houses               4       750k-1m    \n",
      "7270640   Detached Houses               4       750k-1m    \n",
      "7270641   Detached Houses               4       750k-1m    \n",
      "7270642   Detached Houses               4       750k-1m    \n",
      "7270643   Detached Houses               4       750k-1m    \n",
      "\n",
      "         How many People Living there   \n",
      "0                                  5+   \n",
      "1                                  5+   \n",
      "2                                  5+   \n",
      "3                                  5+   \n",
      "4                                  5+   \n",
      "...                                ...  \n",
      "7270639                              2  \n",
      "7270640                              2  \n",
      "7270641                              2  \n",
      "7270642                              2  \n",
      "7270643                              2  \n",
      "\n",
      "[7270644 rows x 8 columns]\n"
     ]
    }
   ],
   "source": [
    "# Read and preprocess the london_sample.csv file\n",
    "df = pd.read_csv(\"london_sample.csv\")\n",
    "df = df.drop(columns='Unnamed: 0')\n",
    "df.columns = ['LCLid', 'DateTime', 'KWh']\n",
    "\n",
    "# Remove rows with 'Null' values in the 'KWh' column\n",
    "df = df[df.KWh != 'Null']\n",
    "\n",
    "# Convert the 'KWh' column to float\n",
    "df['KWh'] = df['KWh'].astype(float)\n",
    "\n",
    "# Read and preprocess the informations_households.csv file\n",
    "house_info = pd.read_csv('archive/informations_households.csv')\n",
    "house_info.Acorn = house_info.Acorn.str.replace('ACORN-', \"\")\n",
    "\n",
    "\n",
    "# Read and merge the Acorn Descriptions v2.csv file with the AcornName DataFrame\n",
    "AcornDesc = pd.read_csv('Acorn Descriptions v2.csv', sep=':')\n",
    "\n",
    "# Merge the energy consumption data with the household information\n",
    "df_households = pd.merge(df, house_info, on='LCLid')\n",
    "\n",
    "# Merge the resulting DataFrame with the Acorn descriptions DataFrame on the 'Acorn' column\n",
    "df_households_acorn_desc = pd.merge(df_households, AcornDesc, on='Acorn')\n",
    "\n",
    "# Drop the specified columns\n",
    "df_households_acorn_desc = df_households_acorn_desc.drop(columns=['stdorToU', 'Acorn_grouped', 'file'])\n",
    "\n",
    "# Display the resulting DataFrame\n",
    "print(df_households_acorn_desc)\n",
    "# Convert the 'DateTime' column to a pandas datetime object\n",
    "df_households_acorn_desc['DateTime'] = pd.to_datetime(df_households_acorn_desc['DateTime'])\n",
    "df_households_acorn_desc.to_csv('London_House_data.csv', index=False)"
   ]
  },
  {
   "cell_type": "markdown",
   "id": "3e505539",
   "metadata": {},
   "source": [
    "## Generating the Fake Data\n",
    "The toolkit requires us to know the appliance energy, seperately, which is something we do not have for both Kaggle data or Pauls data, so in this case we would generate some Fake Data so we can try out the toolkit. "
   ]
  },
  {
   "cell_type": "code",
   "execution_count": 5,
   "id": "bbc708d7",
   "metadata": {},
   "outputs": [
    {
     "name": "stdout",
     "output_type": "stream",
     "text": [
      "                     DateTime      Fridge  Washing Machine          TV  \\\n",
      "0   2013-01-05 07:40:11+00:00  140.717578      1199.616497  268.105619   \n",
      "1   2013-06-09 01:03:07+00:00  160.390627      1328.789888  226.854459   \n",
      "2   2012-07-13 10:57:19+00:00  117.402343       999.973534  170.604169   \n",
      "3   2012-12-25 15:23:10+00:00  152.272234       999.406855  142.463900   \n",
      "4   2012-05-05 10:43:06+00:00  149.502054       731.775460  178.945614   \n",
      "..                        ...         ...              ...         ...   \n",
      "995 2012-09-28 05:00:39+00:00  171.103585       929.379530  213.657181   \n",
      "996 2014-01-10 21:38:38+00:00  138.565993      1292.892386  218.151523   \n",
      "997 2012-07-17 00:28:33+00:00  149.128342      1238.027185  197.249036   \n",
      "998 2013-01-04 15:48:36+00:00  199.699333      1497.313828  233.242279   \n",
      "999 2012-11-10 07:41:39+00:00  111.105613       693.424326  190.337380   \n",
      "\n",
      "            Oven  Air Conditioner  \n",
      "0    4756.812327      1563.959972  \n",
      "1    1210.766837      1095.792216  \n",
      "2    4391.060439      1300.088581  \n",
      "3    3633.120697      2371.526493  \n",
      "4    1463.136442      2408.038657  \n",
      "..           ...              ...  \n",
      "995  2124.658679      1165.055346  \n",
      "996  1689.827785      1522.210352  \n",
      "997  2112.550701      2033.438192  \n",
      "998  1235.464794      1375.629917  \n",
      "999  1731.062194      1986.474125  \n",
      "\n",
      "[1000 rows x 6 columns]\n"
     ]
    }
   ],
   "source": [
    "# Define common appliances\n",
    "appliances = ['Fridge', 'Washing Machine', 'TV', 'Oven', 'Air Conditioner']\n",
    "\n",
    "# Define realistic energy consumption ranges (in watts) for each appliance\n",
    "consumption_ranges = {\n",
    "    'Fridge': (100, 200),\n",
    "    'Washing Machine': (500, 1500),\n",
    "    'TV': (50, 300),\n",
    "    'Oven': (1000, 5000),\n",
    "    'Air Conditioner': (1000, 3500)\n",
    "}\n",
    "\n",
    "# Function to generate random DateTime within a specified range\n",
    "def random_datetime(start, end):\n",
    "    total_seconds = int((end - start).total_seconds())\n",
    "    random_seconds = random.randint(0, total_seconds)\n",
    "    return start + timedelta(seconds=random_seconds)\n",
    "\n",
    "# Set DateTime range\n",
    "min_datetime = datetime.strptime(\"2011-12-06 15:30:00+00:00\", \"%Y-%m-%d %H:%M:%S%z\")\n",
    "max_datetime = datetime.strptime(\"2014-02-28 00:00:00+00:00\", \"%Y-%m-%d %H:%M:%S%z\")\n",
    "\n",
    "# Generate fake data\n",
    "num_rows = 1000  # Adjust this value according to your needs\n",
    "data = []\n",
    "\n",
    "for i in range(num_rows):\n",
    "    dt = random_datetime(min_datetime, max_datetime)\n",
    "    consumption = {appliance: random.uniform(*consumption_ranges[appliance]) for appliance in appliances}\n",
    "    data.append([dt, *consumption.values()])\n",
    "\n",
    "# Create a Pandas DataFrame\n",
    "df = pd.DataFrame(data, columns=['DateTime', *appliances])\n",
    "print(df)\n",
    "# Save the DataFrame to a CSV file\n",
    "df.to_csv('fake_appliance_data.csv', index=False)\n"
   ]
  },
  {
   "cell_type": "code",
   "execution_count": null,
   "id": "e0cdbdb4",
   "metadata": {},
   "outputs": [],
   "source": []
  }
 ],
 "metadata": {
  "kernelspec": {
   "display_name": "Python 3 (ipykernel)",
   "language": "python",
   "name": "python3"
  },
  "language_info": {
   "codemirror_mode": {
    "name": "ipython",
    "version": 3
   },
   "file_extension": ".py",
   "mimetype": "text/x-python",
   "name": "python",
   "nbconvert_exporter": "python",
   "pygments_lexer": "ipython3",
   "version": "3.8.16"
  }
 },
 "nbformat": 4,
 "nbformat_minor": 5
}
