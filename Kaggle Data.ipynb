{
 "cells": [
  {
   "cell_type": "markdown",
   "id": "2da4f0ac",
   "metadata": {},
   "source": [
    "# Cleaning Energy Consumption Data\n",
    "This Jupyter Notebook focuses on cleaning and preprocessing energy consumption data from the London Kaggle Data. The difference between the Kaggle data here and Pauls data is that the kaggle data is sorted in 30 min intervals. "
   ]
  },
  {
   "cell_type": "code",
   "execution_count": 1,
   "id": "19ef8761",
   "metadata": {},
   "outputs": [],
   "source": [
    "import numpy as np\n",
    "import pandas as pd\n",
    "import matplotlib.pyplot as plt\n",
    "\n",
    "alldata = pd.read_csv(\"archive/halfhourly_dataset/halfhourly_dataset/block_0.csv\")"
   ]
  },
  {
   "cell_type": "code",
   "execution_count": 2,
   "id": "b9dafd82",
   "metadata": {},
   "outputs": [
    {
     "name": "stdout",
     "output_type": "stream",
     "text": [
      "             LCLid                         tstp energy(kWh/hh)\n",
      "0        MAC000002  2012-10-12 00:30:00.0000000             0 \n",
      "1        MAC000002  2012-10-12 01:00:00.0000000             0 \n",
      "2        MAC000002  2012-10-12 01:30:00.0000000             0 \n",
      "3        MAC000002  2012-10-12 02:00:00.0000000             0 \n",
      "4        MAC000002  2012-10-12 02:30:00.0000000             0 \n",
      "...            ...                          ...            ...\n",
      "1222665  MAC005492  2014-02-27 22:00:00.0000000         0.182 \n",
      "1222666  MAC005492  2014-02-27 22:30:00.0000000         0.122 \n",
      "1222667  MAC005492  2014-02-27 23:00:00.0000000          0.14 \n",
      "1222668  MAC005492  2014-02-27 23:30:00.0000000         0.192 \n",
      "1222669  MAC005492  2014-02-28 00:00:00.0000000         0.088 \n",
      "\n",
      "[1222670 rows x 3 columns]\n"
     ]
    }
   ],
   "source": [
    "print(alldata)"
   ]
  },
  {
   "cell_type": "markdown",
   "id": "bec55b5e",
   "metadata": {},
   "source": [
    "## Data Cleaning\n",
    "Removing the rows where the energy consumption value is \"Null\" and converting the energy consumption data column to a numeric type. The timestamp column is also converted to a datetime type. The energy consumption values are then multiplied by 1000 to convert them to watt-hours."
   ]
  },
  {
   "cell_type": "code",
   "execution_count": 3,
   "id": "a8c98ce0",
   "metadata": {},
   "outputs": [],
   "source": [
    "# set energy consumption data to numeric type\n",
    "alldata = alldata[alldata[\"energy(kWh/hh)\"] != \"Null\"]\n",
    "alldata.loc[:,\"energy\"] = alldata[\"energy(kWh/hh)\"].astype(\"float64\")\n",
    "alldata['tstp'] = pd.to_datetime(alldata['tstp'])\n",
    "# calculate the cumulative energy use over time for each date\n",
    "alldata[\"energy\"] = alldata[\"energy\"]*1000"
   ]
  },
  {
   "cell_type": "code",
   "execution_count": 4,
   "id": "c4062f31",
   "metadata": {},
   "outputs": [
    {
     "name": "stdout",
     "output_type": "stream",
     "text": [
      "             LCLid                tstp energy(kWh/hh)  energy\n",
      "0        MAC000002 2012-10-12 00:30:00             0      0.0\n",
      "1        MAC000002 2012-10-12 01:00:00             0      0.0\n",
      "2        MAC000002 2012-10-12 01:30:00             0      0.0\n",
      "3        MAC000002 2012-10-12 02:00:00             0      0.0\n",
      "4        MAC000002 2012-10-12 02:30:00             0      0.0\n",
      "...            ...                 ...            ...     ...\n",
      "1222665  MAC005492 2014-02-27 22:00:00         0.182    182.0\n",
      "1222666  MAC005492 2014-02-27 22:30:00         0.122    122.0\n",
      "1222667  MAC005492 2014-02-27 23:00:00          0.14    140.0\n",
      "1222668  MAC005492 2014-02-27 23:30:00         0.192    192.0\n",
      "1222669  MAC005492 2014-02-28 00:00:00         0.088     88.0\n",
      "\n",
      "[1222620 rows x 4 columns]\n"
     ]
    }
   ],
   "source": [
    "print(alldata)"
   ]
  },
  {
   "cell_type": "code",
   "execution_count": 5,
   "id": "89b68d10",
   "metadata": {},
   "outputs": [
    {
     "name": "stdout",
     "output_type": "stream",
     "text": [
      "Index(['LCLid', 'tstp', 'energy(kWh/hh)', 'energy'], dtype='object')\n"
     ]
    }
   ],
   "source": [
    "print(alldata.columns)"
   ]
  },
  {
   "cell_type": "code",
   "execution_count": 6,
   "id": "c7fa9af7",
   "metadata": {},
   "outputs": [],
   "source": [
    "df1 = alldata.drop(columns=[\"energy(kWh/hh)\"])\n",
    "df2 = df1.reset_index().set_index(\"LCLid\")"
   ]
  },
  {
   "cell_type": "code",
   "execution_count": 7,
   "id": "f948e786",
   "metadata": {},
   "outputs": [
    {
     "name": "stdout",
     "output_type": "stream",
     "text": [
      "             index                tstp  energy\n",
      "LCLid                                         \n",
      "MAC000002        0 2012-10-12 00:30:00     0.0\n",
      "MAC000002        1 2012-10-12 01:00:00     0.0\n",
      "MAC000002        2 2012-10-12 01:30:00     0.0\n",
      "MAC000002        3 2012-10-12 02:00:00     0.0\n",
      "MAC000002        4 2012-10-12 02:30:00     0.0\n",
      "...            ...                 ...     ...\n",
      "MAC005492  1222665 2014-02-27 22:00:00   182.0\n",
      "MAC005492  1222666 2014-02-27 22:30:00   122.0\n",
      "MAC005492  1222667 2014-02-27 23:00:00   140.0\n",
      "MAC005492  1222668 2014-02-27 23:30:00   192.0\n",
      "MAC005492  1222669 2014-02-28 00:00:00    88.0\n",
      "\n",
      "[1222620 rows x 3 columns]\n"
     ]
    }
   ],
   "source": [
    "print(df2)"
   ]
  },
  {
   "cell_type": "code",
   "execution_count": 8,
   "id": "1a665d66",
   "metadata": {},
   "outputs": [],
   "source": [
    "df1.to_csv(\"30_minutes.csv\", index=True)"
   ]
  },
  {
   "cell_type": "markdown",
   "id": "af48f32a",
   "metadata": {},
   "source": []
  }
 ],
 "metadata": {
  "kernelspec": {
   "display_name": "Python 3 (ipykernel)",
   "language": "python",
   "name": "python3"
  },
  "language_info": {
   "codemirror_mode": {
    "name": "ipython",
    "version": 3
   },
   "file_extension": ".py",
   "mimetype": "text/x-python",
   "name": "python",
   "nbconvert_exporter": "python",
   "pygments_lexer": "ipython3",
   "version": "3.8.16"
  }
 },
 "nbformat": 4,
 "nbformat_minor": 5
}
