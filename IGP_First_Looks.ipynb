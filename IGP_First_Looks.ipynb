{
 "cells": [
  {
   "cell_type": "markdown",
   "id": "47e6a552",
   "metadata": {},
   "source": [
    "# Data Cleaning and Resampling for Energy Consumption Data\n",
    "This Jupyter Notebook code block focuses on cleaning and resampling energy consumption data from the different CSV files given by paul."
   ]
  },
  {
   "cell_type": "code",
   "execution_count": null,
   "id": "db6473a0",
   "metadata": {},
   "outputs": [],
   "source": [
    "import numpy as np\n",
    "import pandas as pd\n",
    "import matplotlib.pyplot as plt\n",
    "\n",
    "df_1 = pd.read_csv(\"2022-12-01_17 11_influxdb_data.csv\", header=3)\n",
    "df_2 = pd.read_csv(\"geo-energy-data-2023-02-01_cleaned.csv\", header=3, low_memory=False)\n",
    "df_new = pd.read_csv(\"geo-energy-data-2023-03-16.csv\", header=3, low_memory=False)\n",
    "\n",
    "# Combine all three dataframes\n",
    "df = pd.concat([df_1, df_2, df_new], ignore_index=True)\n",
    "df.shape\n",
    "df.head()\n",
    "df1 = df.drop(df.columns[[0, 1]], axis=1)\n",
    "df2 = df1.rename(columns = \n",
    "               {'_start': 'start',\n",
    "                '_stop': 'stop',\n",
    "                '_time': 'tstp',\n",
    "                '_value': 'energy',\n",
    "                '_field': 'field',\n",
    "                '_measurement': 'measurement'})\n",
    "print(df2)"
   ]
  },
  {
   "cell_type": "markdown",
   "id": "0eeb635d",
   "metadata": {},
   "source": [
    "## Data Cleaning\n",
    "After the DataFrames are combined, I started the cleaning process. The cleaned DataFrame is then preprocessed for the only useful columns such as timestamp and power which is saved as a CSV file called \"data_minutes.csv\"."
   ]
  },
  {
   "cell_type": "code",
   "execution_count": 2,
   "id": "fbea5dbc",
   "metadata": {},
   "outputs": [
    {
     "name": "stdout",
     "output_type": "stream",
     "text": [
      "        field             measurement                           start  \\\n",
      "0         val               meterdata  2022-11-30T17:10:27.342968311Z   \n",
      "1         val               meterdata  2022-11-30T17:10:27.342968311Z   \n",
      "2         val               meterdata  2022-11-30T17:10:27.342968311Z   \n",
      "3         val               meterdata  2022-11-30T17:10:27.342968311Z   \n",
      "4         val               meterdata  2022-11-30T17:10:27.342968311Z   \n",
      "...       ...                     ...                             ...   \n",
      "1685984   val  meterdata_currentcosts  2023-01-15T16:08:13.209656531Z   \n",
      "1685985   val  meterdata_currentcosts  2023-01-15T16:08:13.209656531Z   \n",
      "1685986   val  meterdata_currentcosts  2023-01-15T16:08:13.209656531Z   \n",
      "1685987   val  meterdata_currentcosts  2023-01-15T16:08:13.209656531Z   \n",
      "1685988   val  meterdata_currentcosts  2023-01-15T16:08:13.209656531Z   \n",
      "\n",
      "                                   stop                  tstp   energy result  \\\n",
      "0        2022-12-01T17:10:27.342968311Z  2022-11-30T17:12:00Z  515.333    NaN   \n",
      "1        2022-12-01T17:10:27.342968311Z  2022-11-30T17:16:00Z  228.591    NaN   \n",
      "2        2022-12-01T17:10:27.342968311Z  2022-11-30T17:20:00Z  184.708    NaN   \n",
      "3        2022-12-01T17:10:27.342968311Z  2022-11-30T17:24:00Z   349.04    NaN   \n",
      "4        2022-12-01T17:10:27.342968311Z  2022-11-30T17:28:00Z  362.125    NaN   \n",
      "...                                 ...                   ...      ...    ...   \n",
      "1685984  2023-03-16T16:08:13.209656531Z  2023-02-12T20:26:48Z  370.204    NaN   \n",
      "1685985  2023-03-16T16:08:13.209656531Z  2023-02-12T20:31:48Z  371.433    NaN   \n",
      "1685986  2023-03-16T16:08:13.209656531Z  2023-02-12T20:36:48Z  372.583    NaN   \n",
      "1685987  2023-03-16T16:08:13.209656531Z  2023-02-12T20:41:48Z  373.614    NaN   \n",
      "1685988  2023-03-16T16:08:13.209656531Z  2023-02-12T20:46:48Z  374.367    NaN   \n",
      "\n",
      "        source  table         type   unit  \n",
      "0         live      0  ELECTRICITY  watts  \n",
      "1         live      0  ELECTRICITY  watts  \n",
      "2         live      0  ELECTRICITY  watts  \n",
      "3         live      0  ELECTRICITY  watts  \n",
      "4         live      0  ELECTRICITY  watts  \n",
      "...        ...    ...          ...    ...  \n",
      "1685984    DAY  16910     periodic   cost  \n",
      "1685985    DAY  16910     periodic   cost  \n",
      "1685986    DAY  16910     periodic   cost  \n",
      "1685987    DAY  16910     periodic   cost  \n",
      "1685988    DAY  16910     periodic   cost  \n",
      "\n",
      "[1685989 rows x 11 columns]\n",
      "Unnamed: 0      object\n",
      "Unnamed: 12     object\n",
      "_field          object\n",
      "_measurement    object\n",
      "_start          object\n",
      "_stop           object\n",
      "_time           object\n",
      "_value          object\n",
      "result          object\n",
      "source          object\n",
      "table           object\n",
      "type            object\n",
      "unit            object\n",
      "dtype: object\n",
      "        field             measurement                           start  \\\n",
      "0         val               meterdata  2022-11-30T17:10:27.342968311Z   \n",
      "1         val               meterdata  2022-11-30T17:10:27.342968311Z   \n",
      "2         val               meterdata  2022-11-30T17:10:27.342968311Z   \n",
      "3         val               meterdata  2022-11-30T17:10:27.342968311Z   \n",
      "4         val               meterdata  2022-11-30T17:10:27.342968311Z   \n",
      "...       ...                     ...                             ...   \n",
      "1685984   val  meterdata_currentcosts  2023-01-15T16:08:13.209656531Z   \n",
      "1685985   val  meterdata_currentcosts  2023-01-15T16:08:13.209656531Z   \n",
      "1685986   val  meterdata_currentcosts  2023-01-15T16:08:13.209656531Z   \n",
      "1685987   val  meterdata_currentcosts  2023-01-15T16:08:13.209656531Z   \n",
      "1685988   val  meterdata_currentcosts  2023-01-15T16:08:13.209656531Z   \n",
      "\n",
      "                                   stop                  tstp   energy result  \\\n",
      "0        2022-12-01T17:10:27.342968311Z  2022-11-30T17:12:00Z  515.333    NaN   \n",
      "1        2022-12-01T17:10:27.342968311Z  2022-11-30T17:16:00Z  228.591    NaN   \n",
      "2        2022-12-01T17:10:27.342968311Z  2022-11-30T17:20:00Z  184.708    NaN   \n",
      "3        2022-12-01T17:10:27.342968311Z  2022-11-30T17:24:00Z   349.04    NaN   \n",
      "4        2022-12-01T17:10:27.342968311Z  2022-11-30T17:28:00Z  362.125    NaN   \n",
      "...                                 ...                   ...      ...    ...   \n",
      "1685984  2023-03-16T16:08:13.209656531Z  2023-02-12T20:26:48Z  370.204    NaN   \n",
      "1685985  2023-03-16T16:08:13.209656531Z  2023-02-12T20:31:48Z  371.433    NaN   \n",
      "1685986  2023-03-16T16:08:13.209656531Z  2023-02-12T20:36:48Z  372.583    NaN   \n",
      "1685987  2023-03-16T16:08:13.209656531Z  2023-02-12T20:41:48Z  373.614    NaN   \n",
      "1685988  2023-03-16T16:08:13.209656531Z  2023-02-12T20:46:48Z  374.367    NaN   \n",
      "\n",
      "        source  table         type   unit  \n",
      "0         live      0  ELECTRICITY  watts  \n",
      "1         live      0  ELECTRICITY  watts  \n",
      "2         live      0  ELECTRICITY  watts  \n",
      "3         live      0  ELECTRICITY  watts  \n",
      "4         live      0  ELECTRICITY  watts  \n",
      "...        ...    ...          ...    ...  \n",
      "1685984    DAY  16910     periodic   cost  \n",
      "1685985    DAY  16910     periodic   cost  \n",
      "1685986    DAY  16910     periodic   cost  \n",
      "1685987    DAY  16910     periodic   cost  \n",
      "1685988    DAY  16910     periodic   cost  \n",
      "\n",
      "[1685972 rows x 11 columns]\n"
     ]
    }
   ],
   "source": [
    "print(df2)\n",
    "df2_cleaned =df2[df2['field']=='val']\n",
    "print(df.dtypes)\n",
    "convert_dict = {'field': str, 'unit': str, 'start': str}\n",
    "df3 = df2_cleaned.astype(convert_dict)\n",
    "print(df3)"
   ]
  },
  {
   "cell_type": "code",
   "execution_count": 3,
   "id": "30cb638f",
   "metadata": {
    "scrolled": false
   },
   "outputs": [
    {
     "name": "stdout",
     "output_type": "stream",
     "text": [
      "        field             measurement                           start  \\\n",
      "0         val               meterdata  2022-11-30T17:10:27.342968311Z   \n",
      "1         val               meterdata  2022-11-30T17:10:27.342968311Z   \n",
      "2         val               meterdata  2022-11-30T17:10:27.342968311Z   \n",
      "3         val               meterdata  2022-11-30T17:10:27.342968311Z   \n",
      "4         val               meterdata  2022-11-30T17:10:27.342968311Z   \n",
      "...       ...                     ...                             ...   \n",
      "1685984   val  meterdata_currentcosts  2023-01-15T16:08:13.209656531Z   \n",
      "1685985   val  meterdata_currentcosts  2023-01-15T16:08:13.209656531Z   \n",
      "1685986   val  meterdata_currentcosts  2023-01-15T16:08:13.209656531Z   \n",
      "1685987   val  meterdata_currentcosts  2023-01-15T16:08:13.209656531Z   \n",
      "1685988   val  meterdata_currentcosts  2023-01-15T16:08:13.209656531Z   \n",
      "\n",
      "                                   stop                  tstp   energy result  \\\n",
      "0        2022-12-01T17:10:27.342968311Z  2022-11-30T17:12:00Z  515.333    NaN   \n",
      "1        2022-12-01T17:10:27.342968311Z  2022-11-30T17:16:00Z  228.591    NaN   \n",
      "2        2022-12-01T17:10:27.342968311Z  2022-11-30T17:20:00Z  184.708    NaN   \n",
      "3        2022-12-01T17:10:27.342968311Z  2022-11-30T17:24:00Z   349.04    NaN   \n",
      "4        2022-12-01T17:10:27.342968311Z  2022-11-30T17:28:00Z  362.125    NaN   \n",
      "...                                 ...                   ...      ...    ...   \n",
      "1685984  2023-03-16T16:08:13.209656531Z  2023-02-12T20:26:48Z  370.204    NaN   \n",
      "1685985  2023-03-16T16:08:13.209656531Z  2023-02-12T20:31:48Z  371.433    NaN   \n",
      "1685986  2023-03-16T16:08:13.209656531Z  2023-02-12T20:36:48Z  372.583    NaN   \n",
      "1685987  2023-03-16T16:08:13.209656531Z  2023-02-12T20:41:48Z  373.614    NaN   \n",
      "1685988  2023-03-16T16:08:13.209656531Z  2023-02-12T20:46:48Z  374.367    NaN   \n",
      "\n",
      "        source  table         type   unit  \n",
      "0         live      0  ELECTRICITY  watts  \n",
      "1         live      0  ELECTRICITY  watts  \n",
      "2         live      0  ELECTRICITY  watts  \n",
      "3         live      0  ELECTRICITY  watts  \n",
      "4         live      0  ELECTRICITY  watts  \n",
      "...        ...    ...          ...    ...  \n",
      "1685984    DAY  16910     periodic   cost  \n",
      "1685985    DAY  16910     periodic   cost  \n",
      "1685986    DAY  16910     periodic   cost  \n",
      "1685987    DAY  16910     periodic   cost  \n",
      "1685988    DAY  16910     periodic   cost  \n",
      "\n",
      "[1685972 rows x 11 columns]\n"
     ]
    },
    {
     "data": {
      "text/plain": [
       "field                0\n",
       "measurement          0\n",
       "start                0\n",
       "stop                 0\n",
       "tstp                 0\n",
       "energy               0\n",
       "result         1685972\n",
       "source               0\n",
       "table                0\n",
       "type                 0\n",
       "unit             17186\n",
       "dtype: int64"
      ]
     },
     "execution_count": 3,
     "metadata": {},
     "output_type": "execute_result"
    }
   ],
   "source": [
    "df2_cleaned.isna().sum()\n",
    "df_3 = df2_cleaned.dropna(subset=['tstp', 'energy'])\n",
    "print(df_3)\n",
    "df_3.isna().sum()\n"
   ]
  },
  {
   "cell_type": "code",
   "execution_count": 4,
   "id": "643463b3",
   "metadata": {
    "scrolled": true
   },
   "outputs": [
    {
     "name": "stdout",
     "output_type": "stream",
     "text": [
      "        field             measurement                           start  \\\n",
      "0         val               meterdata  2022-11-30T17:10:27.342968311Z   \n",
      "1         val               meterdata  2022-11-30T17:10:27.342968311Z   \n",
      "2         val               meterdata  2022-11-30T17:10:27.342968311Z   \n",
      "3         val               meterdata  2022-11-30T17:10:27.342968311Z   \n",
      "4         val               meterdata  2022-11-30T17:10:27.342968311Z   \n",
      "...       ...                     ...                             ...   \n",
      "1685984   val  meterdata_currentcosts  2023-01-15T16:08:13.209656531Z   \n",
      "1685985   val  meterdata_currentcosts  2023-01-15T16:08:13.209656531Z   \n",
      "1685986   val  meterdata_currentcosts  2023-01-15T16:08:13.209656531Z   \n",
      "1685987   val  meterdata_currentcosts  2023-01-15T16:08:13.209656531Z   \n",
      "1685988   val  meterdata_currentcosts  2023-01-15T16:08:13.209656531Z   \n",
      "\n",
      "                                   stop                  tstp   energy result  \\\n",
      "0        2022-12-01T17:10:27.342968311Z  2022-11-30T17:12:00Z  515.333    NaN   \n",
      "1        2022-12-01T17:10:27.342968311Z  2022-11-30T17:16:00Z  228.591    NaN   \n",
      "2        2022-12-01T17:10:27.342968311Z  2022-11-30T17:20:00Z  184.708    NaN   \n",
      "3        2022-12-01T17:10:27.342968311Z  2022-11-30T17:24:00Z   349.04    NaN   \n",
      "4        2022-12-01T17:10:27.342968311Z  2022-11-30T17:28:00Z  362.125    NaN   \n",
      "...                                 ...                   ...      ...    ...   \n",
      "1685984  2023-03-16T16:08:13.209656531Z  2023-02-12T20:26:48Z  370.204    NaN   \n",
      "1685985  2023-03-16T16:08:13.209656531Z  2023-02-12T20:31:48Z  371.433    NaN   \n",
      "1685986  2023-03-16T16:08:13.209656531Z  2023-02-12T20:36:48Z  372.583    NaN   \n",
      "1685987  2023-03-16T16:08:13.209656531Z  2023-02-12T20:41:48Z  373.614    NaN   \n",
      "1685988  2023-03-16T16:08:13.209656531Z  2023-02-12T20:46:48Z  374.367    NaN   \n",
      "\n",
      "        source  table         type   unit  \n",
      "0         live      0  ELECTRICITY  watts  \n",
      "1         live      0  ELECTRICITY  watts  \n",
      "2         live      0  ELECTRICITY  watts  \n",
      "3         live      0  ELECTRICITY  watts  \n",
      "4         live      0  ELECTRICITY  watts  \n",
      "...        ...    ...          ...    ...  \n",
      "1685984    DAY  16910     periodic   cost  \n",
      "1685985    DAY  16910     periodic   cost  \n",
      "1685986    DAY  16910     periodic   cost  \n",
      "1685987    DAY  16910     periodic   cost  \n",
      "1685988    DAY  16910     periodic   cost  \n",
      "\n",
      "[927861 rows x 11 columns]\n"
     ]
    }
   ],
   "source": [
    "df4 = df3[df3[\"type\"]!=\"GAS_ENERGY\"]\n",
    "print(df4)"
   ]
  },
  {
   "cell_type": "code",
   "execution_count": 5,
   "id": "efccb4be",
   "metadata": {},
   "outputs": [
    {
     "name": "stdout",
     "output_type": "stream",
     "text": [
      "                         tstp   energy\n",
      "0        2022-11-30T17:12:00Z  515.333\n",
      "1        2022-11-30T17:16:00Z  228.591\n",
      "2        2022-11-30T17:20:00Z  184.708\n",
      "3        2022-11-30T17:24:00Z   349.04\n",
      "4        2022-11-30T17:28:00Z  362.125\n",
      "...                       ...      ...\n",
      "1685984  2023-02-12T20:26:48Z  370.204\n",
      "1685985  2023-02-12T20:31:48Z  371.433\n",
      "1685986  2023-02-12T20:36:48Z  372.583\n",
      "1685987  2023-02-12T20:41:48Z  373.614\n",
      "1685988  2023-02-12T20:46:48Z  374.367\n",
      "\n",
      "[927861 rows x 2 columns]\n"
     ]
    }
   ],
   "source": [
    "columns_to_drop = [\"table\", \"start\", \"stop\", \"field\", \"measurement\", \"source\", \"unit\", \"type\", \"Unnamed: 12\",\"result\"]\n",
    "columns_to_drop = [col for col in columns_to_drop if col in df4.columns]\n",
    "\n",
    "df5 = df4.drop(columns=columns_to_drop)\n",
    "print(df5)"
   ]
  },
  {
   "cell_type": "markdown",
   "id": "a2f5b131",
   "metadata": {},
   "source": [
    "## Resampling\n",
    "Resampling the DataFrame by aggregating data in 30-minute intervals. The energy values for each 30-minute interval are averaged. A new column \"LCLid\" is added to the DataFrame to relate to a London Dataset and then the resulting DataFrame is saved as a CSV file called \"data_30_minutes.csv\"."
   ]
  },
  {
   "cell_type": "code",
   "execution_count": 14,
   "id": "56b05f74",
   "metadata": {},
   "outputs": [
    {
     "name": "stdout",
     "output_type": "stream",
     "text": [
      "Empty DataFrame\n",
      "Columns: [tstp, energy]\n",
      "Index: []\n",
      "                         tstp   energy\n",
      "0        2022-11-30T17:12:00Z  515.333\n",
      "1        2022-11-30T17:16:00Z  228.591\n",
      "2        2022-11-30T17:20:00Z  184.708\n",
      "3        2022-11-30T17:24:00Z   349.04\n",
      "4        2022-11-30T17:28:00Z  362.125\n",
      "...                       ...      ...\n",
      "1685984  2023-02-12T20:26:48Z  370.204\n",
      "1685985  2023-02-12T20:31:48Z  371.433\n",
      "1685986  2023-02-12T20:36:48Z  372.583\n",
      "1685987  2023-02-12T20:41:48Z  373.614\n",
      "1685988  2023-02-12T20:46:48Z  374.367\n",
      "\n",
      "[927861 rows x 2 columns]\n",
      "                             tstp      energy\n",
      "0       2022-11-30 17:12:00+00:00  515.333333\n",
      "1       2022-11-30 17:16:00+00:00  228.590909\n",
      "2       2022-11-30 17:20:00+00:00  184.708333\n",
      "3       2022-11-30 17:24:00+00:00  349.040000\n",
      "4       2022-11-30 17:28:00+00:00  362.125000\n",
      "...                           ...         ...\n",
      "1685984 2023-02-12 20:26:48+00:00  370.204000\n",
      "1685985 2023-02-12 20:31:48+00:00  371.433000\n",
      "1685986 2023-02-12 20:36:48+00:00  372.583000\n",
      "1685987 2023-02-12 20:41:48+00:00  373.614000\n",
      "1685988 2023-02-12 20:46:48+00:00  374.367000\n",
      "\n",
      "[927861 rows x 2 columns]\n"
     ]
    }
   ],
   "source": [
    "problem_rows = df5.loc[~pd.to_datetime(df5[\"tstp\"], errors='coerce').notnull()]\n",
    "print(problem_rows)\n",
    "df6 = df5.drop(problem_rows.index)\n",
    "print(df6)\n",
    "convert_dict = {'energy': float}\n",
    "df7 = df6.astype(convert_dict)\n",
    "df7[\"tstp\"]= pd.to_datetime(df7[\"tstp\"])\n",
    "print(df7)\n",
    "df7.to_csv(\"data_minutes.csv\", index=True)"
   ]
  },
  {
   "cell_type": "code",
   "execution_count": 7,
   "id": "faeb2adf",
   "metadata": {
    "scrolled": true
   },
   "outputs": [
    {
     "name": "stdout",
     "output_type": "stream",
     "text": [
      "                               energy\n",
      "tstp                                 \n",
      "2022-11-30 17:00:00+00:00  327.959515\n",
      "2022-11-30 17:30:00+00:00  476.221791\n",
      "2022-11-30 18:00:00+00:00  265.523489\n",
      "2022-11-30 18:30:00+00:00  252.229837\n",
      "2022-11-30 19:00:00+00:00  412.906994\n",
      "...                               ...\n",
      "2023-03-16 14:00:00+00:00  911.928525\n",
      "2023-03-16 14:30:00+00:00  816.426538\n",
      "2023-03-16 15:00:00+00:00  780.541752\n",
      "2023-03-16 15:30:00+00:00  761.983622\n",
      "2023-03-16 16:00:00+00:00  796.429589\n",
      "\n",
      "[3530 rows x 1 columns]\n"
     ]
    }
   ],
   "source": [
    "df7[\"tstp\"]= pd.to_datetime(df7[\"tstp\"])\n",
    "#using the mean of the 30 mins intervales\n",
    "df7[\"tstp\"] = df7[\"tstp\"].dt.floor('30T')\n",
    "# Resample the data based on the new column, taking the mean of the energy values\n",
    "df8 = df7.groupby(\"tstp\").mean()\n",
    "print(df8)"
   ]
  },
  {
   "cell_type": "code",
   "execution_count": 8,
   "id": "acebc79c",
   "metadata": {},
   "outputs": [],
   "source": [
    "df8[\"LCLid\"] = \"MAC000001\""
   ]
  },
  {
   "cell_type": "code",
   "execution_count": 9,
   "id": "6ebb207c",
   "metadata": {},
   "outputs": [
    {
     "name": "stdout",
     "output_type": "stream",
     "text": [
      "                               energy      LCLid\n",
      "tstp                                            \n",
      "2022-11-30 17:00:00+00:00  327.959515  MAC000001\n",
      "2022-11-30 17:30:00+00:00  476.221791  MAC000001\n",
      "2022-11-30 18:00:00+00:00  265.523489  MAC000001\n",
      "2022-11-30 18:30:00+00:00  252.229837  MAC000001\n",
      "2022-11-30 19:00:00+00:00  412.906994  MAC000001\n",
      "...                               ...        ...\n",
      "2023-03-16 14:00:00+00:00  911.928525  MAC000001\n",
      "2023-03-16 14:30:00+00:00  816.426538  MAC000001\n",
      "2023-03-16 15:00:00+00:00  780.541752  MAC000001\n",
      "2023-03-16 15:30:00+00:00  761.983622  MAC000001\n",
      "2023-03-16 16:00:00+00:00  796.429589  MAC000001\n",
      "\n",
      "[3530 rows x 2 columns]\n"
     ]
    }
   ],
   "source": [
    "print(df8)"
   ]
  },
  {
   "cell_type": "code",
   "execution_count": 10,
   "id": "671bfbe8",
   "metadata": {},
   "outputs": [],
   "source": [
    "df9 = df8.reset_index().set_index(\"LCLid\")"
   ]
  },
  {
   "cell_type": "code",
   "execution_count": 11,
   "id": "62c62ad4",
   "metadata": {},
   "outputs": [
    {
     "name": "stdout",
     "output_type": "stream",
     "text": [
      "                               tstp      energy\n",
      "LCLid                                          \n",
      "MAC000001 2022-11-30 17:00:00+00:00  327.959515\n",
      "MAC000001 2022-11-30 17:30:00+00:00  476.221791\n",
      "MAC000001 2022-11-30 18:00:00+00:00  265.523489\n",
      "MAC000001 2022-11-30 18:30:00+00:00  252.229837\n",
      "MAC000001 2022-11-30 19:00:00+00:00  412.906994\n",
      "...                             ...         ...\n",
      "MAC000001 2023-03-16 14:00:00+00:00  911.928525\n",
      "MAC000001 2023-03-16 14:30:00+00:00  816.426538\n",
      "MAC000001 2023-03-16 15:00:00+00:00  780.541752\n",
      "MAC000001 2023-03-16 15:30:00+00:00  761.983622\n",
      "MAC000001 2023-03-16 16:00:00+00:00  796.429589\n",
      "\n",
      "[3530 rows x 2 columns]\n"
     ]
    }
   ],
   "source": [
    "print(df9)"
   ]
  },
  {
   "cell_type": "code",
   "execution_count": 12,
   "id": "18762e0e",
   "metadata": {},
   "outputs": [],
   "source": [
    "df9.to_csv(\"data_30_minutes.csv\", index=True)"
   ]
  }
 ],
 "metadata": {
  "kernelspec": {
   "display_name": "Python 3 (ipykernel)",
   "language": "python",
   "name": "python3"
  },
  "language_info": {
   "codemirror_mode": {
    "name": "ipython",
    "version": 3
   },
   "file_extension": ".py",
   "mimetype": "text/x-python",
   "name": "python",
   "nbconvert_exporter": "python",
   "pygments_lexer": "ipython3",
   "version": "3.8.16"
  }
 },
 "nbformat": 4,
 "nbformat_minor": 5
}
